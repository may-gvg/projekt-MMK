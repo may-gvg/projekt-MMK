{
 "cells": [
  {
   "cell_type": "markdown",
   "source": [
    "# Struktury Danych\r\n",
    "- Krotka \r\n",
    "- Listy \r\n",
    "- Zbiory\r\n",
    "- Słowniki \r\n",
    "\r\n",
    "# Opis  \r\n",
    "- Zasada tworzenia\r\n",
    "- Zalety / Wady / Ograniczenia\r\n",
    "- Funkcje wbudowane\r\n",
    "- Przykłady operacji\r\n"
   ],
   "metadata": {
    "collapsed": true
   }
  },
  {
   "cell_type": "markdown",
   "source": [
    "# Krotka"
   ],
   "metadata": {}
  },
  {
   "cell_type": "code",
   "execution_count": 2,
   "source": [
    "\r\n",
    "# Zasada tworzenia:\r\n",
    "# nazwa_zmiennej = (wartości)\r\n",
    "\r\n",
    "prosta_krotka = (1, 2, 3, 4, 5, 6, 7, 8, 9, 10) \r\n"
   ],
   "outputs": [],
   "metadata": {}
  },
  {
   "cell_type": "markdown",
   "source": [
    "# Zalety:\r\n",
    "-\r\n",
    "-\r\n",
    "\r\n",
    "# Wady:\r\n",
    "-\r\n",
    "-\r\n",
    "\r\n",
    "# Ograniczenia:\r\n",
    "-\r\n",
    "-\r\n",
    "-"
   ],
   "metadata": {}
  },
  {
   "cell_type": "code",
   "execution_count": 7,
   "source": [
    "# Funkcje wbudowane\r\n",
    "\r\n",
    "prosta_krotka = (1, 2, 3, 4, 5, 6, 7, 8, 4, 9, 10)\r\n",
    "\r\n",
    "print(prosta_krotka.count(4)) # - .count(wartość) funkcja zwraca liczebność podanej wartości w zmiennej\r\n",
    "\r\n",
    "print(prosta_krotka.index(6)) # - .index(wartość) funkcja zwraca index podanej wartości\r\n",
    "\r\n"
   ],
   "outputs": [
    {
     "output_type": "stream",
     "name": "stdout",
     "text": [
      "2\n",
      "5\n"
     ]
    }
   ],
   "metadata": {}
  },
  {
   "cell_type": "code",
   "execution_count": 10,
   "source": [
    "# Przykładowe operacje\r\n",
    "\r\n",
    "prosta_krotka = (1, 2, 3, 4, 5, 6, 7, 8, 9, 10)\r\n",
    "\r\n",
    "\r\n",
    "for number in prosta_krotka: # iteracja po elementach krotki\r\n",
    "    print(number)\r\n",
    "\r\n",
    "\r\n",
    "print(prosta_krotka[4]) # przy pomocy nawiasów '[]' wyciągamy element o podanym indexie\r\n",
    "\r\n",
    "\r\n"
   ],
   "outputs": [
    {
     "output_type": "stream",
     "name": "stdout",
     "text": [
      "1\n",
      "2\n",
      "3\n",
      "4\n",
      "5\n",
      "6\n",
      "7\n",
      "8\n",
      "9\n",
      "10\n",
      "5\n"
     ]
    }
   ],
   "metadata": {
    "collapsed": false,
    "pycharm": {
     "name": "#%%\n"
    }
   }
  },
  {
   "cell_type": "markdown",
   "source": [
    "# Listy"
   ],
   "metadata": {}
  },
  {
   "cell_type": "code",
   "execution_count": 47,
   "source": [
    "# Zasada tworzenia\r\n",
    "\r\n",
    "pusta_lista_1 = list() # tworzenie pustej listy\r\n",
    "pusta_lista_2 = []  # drugi sposób tworzenia pustej listy\r\n",
    "\r\n",
    "prosta_lista = [1, 3, 3.45, 'text', True, False] # przykładowa lista zawierająca różne typy danych\r\n"
   ],
   "outputs": [],
   "metadata": {
    "collapsed": false,
    "pycharm": {
     "name": "#%%\n"
    }
   }
  },
  {
   "cell_type": "markdown",
   "source": [
    "# Zalety:\r\n",
    "-\r\n",
    "-\r\n",
    "-\r\n",
    "\r\n",
    "# Wady:\r\n",
    "-\r\n",
    "-\r\n",
    "-\r\n",
    "\r\n",
    "# Ograniczenia:\r\n",
    "-\r\n",
    "-\r\n",
    "-\r\n"
   ],
   "metadata": {
    "collapsed": false,
    "pycharm": {
     "name": "#%%\n"
    }
   }
  },
  {
   "cell_type": "code",
   "execution_count": 62,
   "source": [
    "# Funkcje wbudowane\r\n",
    "\r\n",
    "prosta_lista = [1, 3, 3.45, 'text', True, False]\r\n",
    "\r\n",
    "prosta_lista.append(\"dodany element\") # .append(wartość) dodaje pojedynczy element o podanej wartości do listy na jej końcu, wartość może być listą, krotką lub słownikiem, \r\n",
    "                                      #  zostanie potraktowany jako pojedynczy element \r\n",
    "prosta_lista.append([3, 4, 6]) # dodaje wartości jako zagnieżdżoną listę którą traktuje jako pojedynczy element\r\n",
    "print(prosta_lista)\r\n",
    "\r\n",
    "print(prosta_lista.count(3)) # .count(wartość) zlicza ile jest elementów o podanej wartości\r\n",
    "\r\n",
    "prosta_lista.extend([3, 4]) # .extend(wartości) rozszerza listę o podane wartości, nie dodaje pojedynczej wartości, dodawany element musi być iterowalny\r\n",
    "prosta_lista.extend('Ola') # funkcja iteruje po wartości i dodaje każdy element jako osobną wartość\r\n",
    "# prosta_lista.extend(3) wartość nieiterowalna, program wyrzuci błąd   \r\n",
    "print(prosta_lista)\r\n",
    "\r\n",
    "print(prosta_lista.index(1)) # .index(wartość) podaje ile razy wartość występuje w liście\r\n",
    "\r\n",
    "prosta_lista.insert(2, 'drugi element') # .insert(index, wartość) funkcja dodaje wartość w miejsce podanego indexu\r\n",
    "\r\n",
    "wartość = prosta_lista.pop(2) # .pop(index) funkcja służąca do pobrania elementu z listy o podanym indexie, z jednoczesnym usunięciem tego elementu z listy, \r\n",
    "ostatni_element = prosta_lista.pop() # jeśli wartość nie zostanie podana, zostanie pobrany ostani element na liście\r\n",
    "\r\n",
    "prosta_lista.remove(1) # .remove(wartość) funkcja usuwa element o podanej wartości z listy, element o podanej wartości musi się znajdować na liście\r\n",
    "\r\n",
    "prosta_lista.reverse() # .reverse() funkcja odwraca kolejność listy, nie przyjmuje żadnego argumentu\r\n",
    "\r\n",
    "lista_cyfr = [5, 6, 3, 45, 1, -8]\r\n",
    "lista_cyfr.sort() # .sort() funkcja sortuje elementy listy od najmniejszej do największej, WAŻNE!! Elementy w liście muszą być tego samego typu\r\n",
    "                    # funkcja nie przyjmuje żadnych argumentów\r\n",
    "print(lista_cyfr)\r\n",
    "\r\n",
    "osobna_lista = prosta_lista.copy() # .copy() funkcja kopiuje obecny stan listy do przypisanej wartości, operacje na zmiennej 'prosta_lista' po skopiowaniu nie wpłyną na zmienną 'osobna_lista' \r\n",
    "                                   # funkcja nie przyjmuje żadnych argumentów\r\n",
    "\r\n",
    "prosta_lista.clear() # .clear() funkcja usuwa wszystkie elementy z listy, nie przyjmuje żadnych argumentów\r\n",
    "print(prosta_lista)\r\n",
    "\r\n"
   ],
   "outputs": [
    {
     "output_type": "stream",
     "name": "stdout",
     "text": [
      "[1, 3, 3.45, 'text', True, False, 'dodany element', [3, 4, 6]]\n",
      "1\n",
      "[1, 3, 3.45, 'text', True, False, 'dodany element', [3, 4, 6], 3, 4, 'O', 'l', 'a']\n",
      "0\n",
      "[-8, 1, 3, 5, 6, 45]\n",
      "[]\n"
     ]
    }
   ],
   "metadata": {}
  },
  {
   "cell_type": "code",
   "execution_count": 55,
   "source": [
    "# Przykładowe operacje\r\n",
    "\r\n",
    "lista_zakupow = ['ziemniaki', 'banany']\r\n",
    "\r\n",
    "lista_zakupow.append('pomidory')\r\n",
    "\r\n",
    "print(lista_zakupow)\r\n",
    "\r\n",
    "zawartość_półki = ['ryż', 'makaron']\r\n",
    "\r\n",
    "zakupy = lista_zakupow.pop(1)\r\n",
    "\r\n",
    "zawartość_półki.append(zakupy)\r\n",
    "\r\n",
    "owoce_warzywa = ['jabłko', 'cytryna', 'ogórek']\r\n",
    "owoce_warzywa.extend(lista_zakupow)\r\n",
    "print(owoce_warzywa)\r\n",
    "\r\n",
    "print(\"Zjadłem jabłko.\")\r\n",
    "owoce_warzywa.remove('jabłko')\r\n",
    "\r\n",
    "\r\n",
    "owoce_warzywa.sort()\r\n",
    "for item in owoce_warzywa:\r\n",
    "    print(owoce_warzywa.index(item)+1, item)\r\n",
    "\r\n",
    "print(lista_zakupow)\r\n",
    "lista_zakupow.clear()\r\n",
    "\r\n",
    "oceny_ucznia = [2, 3, 5, 3, 4, 2, 4, 5, 1, 3, 4, 5, 6, 3, 2, 4, 3]\r\n",
    "\r\n",
    "print(f\"Uczeń posiada oceny:\\n {oceny_ucznia.count(2)} - dopuszczających,\\n {oceny_ucznia.count(3)} - dostatecznych,\\n {oceny_ucznia.count(4)} - dobrych,\\n {oceny_ucznia.count(5)} - bardzo dobrych,\\n {oceny_ucznia.count(6)} - celujących\")\r\n",
    "\r\n",
    "oceny_ucznia.sort()\r\n",
    "oceny_ucznia.reverse()\r\n",
    "print(oceny_ucznia)\r\n",
    "\r\n",
    "\r\n",
    "dni_tygodnia = ['pon', 'srod', 'piat', 'sob', 'niedz']\r\n",
    "\r\n",
    "dni_tygodnia.insert(1, 'wtor')\r\n",
    "dni_tygodnia.insert(3, 'czwa')\r\n",
    "\r\n",
    "print(dni_tygodnia)"
   ],
   "outputs": [
    {
     "output_type": "stream",
     "name": "stdout",
     "text": [
      "['ziemniaki', 'banany', 'pomidory']\n",
      "['jabłko', 'cytryna', 'ogórek', 'ziemniaki', 'pomidory']\n",
      "Zjadłem jabłko.\n",
      "1 cytryna\n",
      "2 ogórek\n",
      "3 pomidory\n",
      "4 ziemniaki\n",
      "['ziemniaki', 'pomidory']\n",
      "Uczeń posiada oceny:\n",
      " 3 - dopuszczających,\n",
      " 5 - dostatecznych,\n",
      " 4 - dobrych,\n",
      " 3 - bardzo dobrych,\n",
      " 1 - celujących\n",
      "[6, 5, 5, 5, 4, 4, 4, 4, 3, 3, 3, 3, 3, 2, 2, 2, 1]\n",
      "['pon', 'wtor', 'srod', 'czwa', 'piat', 'sob', 'niedz']\n"
     ]
    }
   ],
   "metadata": {}
  },
  {
   "cell_type": "markdown",
   "source": [
    "# Zbiory"
   ],
   "metadata": {}
  },
  {
   "cell_type": "code",
   "execution_count": 58,
   "source": [
    "# Zasada tworzenia\r\n",
    "\r\n",
    "pusty_zbiór_1 = set() # tworzenie pustego zbioru\r\n",
    "print(type(pusty_zbiór_1))\r\n",
    "\r\n",
    "przykładowy_zbior_1 = {2, 3, 4, 5, 6, 7, 8, 9, 10, 4, 5, 5, 5}\r\n",
    "print(type(przykładowy_zbior_1))\r\n"
   ],
   "outputs": [
    {
     "output_type": "stream",
     "name": "stdout",
     "text": [
      "<class 'set'>\n",
      "<class 'set'>\n"
     ]
    }
   ],
   "metadata": {}
  },
  {
   "cell_type": "markdown",
   "source": [
    "# Zalety:\r\n",
    "-\r\n",
    "-\r\n",
    "-\r\n",
    "-\r\n",
    "# Wady:\r\n",
    "-\r\n",
    "-\r\n",
    "-\r\n",
    "-\r\n",
    "# Ograniczenia:\r\n",
    "-\r\n",
    "-\r\n",
    "-\r\n"
   ],
   "metadata": {}
  },
  {
   "cell_type": "code",
   "execution_count": 61,
   "source": [
    "# Funkcje wbudowane\r\n",
    "\r\n",
    "przykładowy_zbior_cyfr_1 = {1, 2, 3, 4, 5, 6, 7, 8, 9, 2345}\r\n",
    "przykładowy_zbior_cyfr_2 = {1, 4, 67, 34, 6, 3, 56, 7, 7, 3, 20}\r\n",
    "\r\n",
    "przykładowy_zbior_liter_1 = {'a', 'b', 'c', 'd', 'e', 'f'}\r\n",
    "przykładowy_zbior_liter_2 = {'a', 'b', 'x', 'h', 'e', 'n'}\r\n",
    "\r\n",
    "\r\n",
    "\r\n",
    "przykładowy_zbior_cyfr_1.pop() # zbiór.pop(index) funkcja nie przyjmuje argumentu, funkcja zwraca element o najniższej wartości jednocześnie usuwając go ze zbioru\r\n",
    "\r\n",
    "przykładowy_zbior_cyfr_1.difference(przykładowy_zbior_cyfr_2) # zbiór.difference(wartość) funkcja zwraca różnice pomiędzy zadanym zbiorem a zbiorem podanym jako wartość dla funkcji \r\n",
    "\r\n",
    "przykładowy_zbior_cyfr_1.difference_update(przykładowy_zbior_cyfr_2) # zbiór.difference_update(wartość) funkcja modyfikuje zadany zbiór, usuwając z niego elementy zawarte w zbiorze podanym jako wrtość,\r\n",
    "                                                                # wartość musi być w formie po której funkcja może iterować\r\n",
    "\r\n",
    "przykładowy_zbior_cyfr_1.discard(1) # zbiór.discard(wartość) funkcja usuwa ze zbioru element podany jako wartość, wartość należy podać jako pojedynczy element, jeśli wartośc nie istnieje w zbiorze funkcja nie wykonuje żadnej akcji\r\n",
    "\r\n",
    "przykładowy_zbior_cyfr_1.intersection(przykładowy_zbior_cyfr_2) # zbiór.intersection(wartość) funkcja zwraca wspólne elementy w zbiorze i wartości, nie wprowadzając zmian w zbiorze \r\n",
    "\r\n",
    "przykładowy_zbior_cyfr_1.intersection_update(przykładowy_zbior_cyfr_2) # zbiór.intersection_update(wartość) funkcja modyfikuje zbiór pozostawiająć tylko wspólne elementy miedzy zbiorem i wartością\r\n",
    "\r\n",
    "przykładowy_zbior_cyfr_1.isdisjoint(przykładowy_zbior_cyfr_2) # zbiór.isdisjoint(wartość) funkcja zwraca True jeżeli zbiór i zbiór podany jako wartość posiadają dokładnie takie same elementy\r\n",
    "                                                         #  funkcja zwraca False jeżeli w zbiorze bądz wartości występują elementy nie występujące w zbiorze lub wartości, wartość musi posiadać możliwośc iteracji \r\n",
    "\r\n",
    "przykładowy_zbior_cyfr_1.issubset(przykładowy_zbior_cyfr_2) # zbiór.issubset(wartość) funkcja zwraca True jeżeli zbiór podany jako wartość zawiera wszystkie elementy istniejące w zbiorze na którym jest wywoływana funkcja\r\n",
    "\r\n",
    "przykładowy_zbior_cyfr_1.issuperset(przykładowy_zbior_cyfr_2) # zbiór.issuperset(wartość) funkcja zwraca True jeżeli zbiór na którym jest wywoływana funkcja zawiera wszystkie elementy znajdujące się w zbiorze podanym jako wartość\r\n",
    "\r\n",
    "przykładowy_zbior_cyfr_1.add(10) # zbiór.add(wartość) dodaje do zbioru nowy element, jeśli jeszcze nie istnieje, wartość należy podać jako pojedynczy element\r\n",
    "\r\n",
    "przykładowy_zbior_cyfr_1.remove(10) # zbiór.remove(wartość) funkcja usuwa ze zbioru element podany jako wartość, wartośc należy podać jako pojedynczy element, jeżeli wartość nie istnieje w zbiorze funkcja zwraca błąd\r\n",
    "\r\n",
    "przykładowy_zbior_cyfr_1.symmetric_difference(przykładowy_zbior_cyfr_2) # zbiór.symmetric_difference(wartość) funkcja zwraca zbiór zawierający elementy wktórymi zbiór i wartość się różnią\r\n",
    "\r\n",
    "przykładowy_zbior_cyfr_1.symmetric_difference_update(przykładowy_zbior_liter_2) # zbiór.symmetric_difference_update(wartość) funkcja modyfikuje zbiór usuwając elementy wspólne pomiedzy zbiorem i wartością,\r\n",
    "                                                                           # i uzupełnia zbiór o elementy występujące w wartości a nie występujące w zbiorze\r\n",
    "\r\n",
    "przykładowy_zbior_cyfr_1.union(przykładowy_zbior_cyfr_2) # zbiór.union(wartość) funkcja zwraca zbiór wszystkich elementów zawartych w zbiorze i wartości \r\n",
    "\r\n",
    "przykładowy_zbior_cyfr_1.update(przykładowy_zbior_cyfr_2) # zbiór.update(wartość) funkcja uzupełnia zbiór o elementy zawarte w wartości a nie istniejące w zbiorze\r\n",
    "\r\n",
    "przykładowy_zbior_cyfr_1.clear() # zbiór.clear() # funkcja nie przyjmuje argumentu, funkcja usuwa wszystkie elementy w zbiorze\r\n",
    "\r\n",
    "\r\n",
    "\r\n",
    "# Funkcje dzielą się na : wprowadzające modyfikację w zbiorze i na takie które zwracają wartość tylko w momencie wywołania\r\n",
    "#                       : przyjmujące wartość jako pojedynczy element i na takie w których wartość musi posiadac możliwośc iteracji(tupla, lista, zbiór, słownik)\r\n",
    "\r\n",
    "\r\n",
    "\r\n",
    "\r\n"
   ],
   "outputs": [],
   "metadata": {}
  },
  {
   "cell_type": "code",
   "execution_count": 57,
   "source": [
    "# Przykładowe operacje\r\n",
    "\r\n",
    "przykładowy_zbior_cyfr_1 = {1, 2, 3, 4, 5, 6, 7, 8, 9}\r\n",
    "przykładowy_zbior_cyfr_2 = {1, 4, 67, 34, 6, 3, 56, 7, 7, 3, 20}\r\n",
    "z = {1: 2, 3: 1}\r\n",
    "x = {1, 2, 2, 4}\r\n",
    "y = {2, 2, 3}\r\n",
    "y.pop()\r\n",
    "\r\n",
    "\r\n",
    "\r\n"
   ],
   "outputs": [
    {
     "output_type": "execute_result",
     "data": {
      "text/plain": [
       "2"
      ]
     },
     "metadata": {},
     "execution_count": 57
    }
   ],
   "metadata": {}
  },
  {
   "cell_type": "markdown",
   "source": [
    "# Słowniki"
   ],
   "metadata": {}
  },
  {
   "cell_type": "code",
   "execution_count": 64,
   "source": [
    "# Zasada tworzenia\r\n",
    "\r\n",
    "pusty_słownik_1 = {} # pierwszy sposób tworzenia pustego słownika\r\n",
    "print(type(pusty_słownik_1))\r\n",
    "\r\n",
    "pusty_słownik_2 = dict() # drugi sposób tworzenia pustego słownika\r\n",
    "print(type(pusty_słownik_2))\r\n",
    "\r\n",
    "przykład_słownika = {'key': 'value', 'key2': 'value2'} # tworzenie słownika odbywa się na zasadzie przypisania wartości do klucza\r\n"
   ],
   "outputs": [
    {
     "output_type": "stream",
     "name": "stdout",
     "text": [
      "<class 'dict'>\n",
      "<class 'dict'>\n"
     ]
    }
   ],
   "metadata": {}
  },
  {
   "cell_type": "markdown",
   "source": [
    "# Zalety:\r\n",
    "-\r\n",
    "-\r\n",
    "-\r\n",
    "\r\n",
    "# Wady:\r\n",
    "-\r\n",
    "-\r\n",
    "-\r\n",
    "\r\n",
    "# Ograniczenia:\r\n",
    "-\r\n",
    "-\r\n",
    "-\r\n"
   ],
   "metadata": {}
  },
  {
   "cell_type": "code",
   "execution_count": null,
   "source": [
    "# Funkcje wbudowane\r\n",
    "\r\n",
    "przykładowy_słownik_1 = {'jeden': 1, 'dwa': 2, 'trzy': 3, 'cztery': 4}\r\n",
    "\r\n",
    "przykładowy_słownik_1.get()\r\n",
    "\r\n",
    "przykładowy_słownik_1.copy()\r\n",
    "\r\n",
    "przykładowy_słownik_1.fromkeys()\r\n",
    "\r\n",
    "przykładowy_słownik_1.items()\r\n",
    "\r\n",
    "przykładowy_słownik_1.keys()\r\n",
    "\r\n",
    "przykładowy_słownik_1.pop()\r\n",
    "\r\n",
    "przykładowy_słownik_1.popitem()\r\n",
    "\r\n",
    "przykładowy_słownik_1.setdefault()\r\n",
    "\r\n",
    "przykładowy_słownik_1.update()\r\n",
    "\r\n",
    "przykładowy_słownik_1.values()\r\n",
    "\r\n",
    "przykładowy_słownik_1.clear()\r\n"
   ],
   "outputs": [],
   "metadata": {}
  },
  {
   "cell_type": "code",
   "execution_count": 65,
   "source": [
    "# Przykładowe operacje\r\n",
    "\r\n"
   ],
   "outputs": [],
   "metadata": {}
  },
  {
   "cell_type": "markdown",
   "source": [
    "# Dodatkowe przydatne polecenia"
   ],
   "metadata": {}
  },
  {
   "cell_type": "code",
   "execution_count": null,
   "source": [
    "dir()\r\n",
    "\r\n",
    "enumerate()\r\n",
    "\r\n",
    "help()\r\n",
    "\r\n",
    "len()\r\n",
    "\r\n",
    "map()\r\n",
    "\r\n",
    "range()\r\n",
    "\r\n",
    "sum()\r\n",
    "\r\n",
    "type()\r\n",
    "\r\n"
   ],
   "outputs": [],
   "metadata": {}
  }
 ],
 "metadata": {
  "kernelspec": {
   "name": "python3",
   "display_name": "Python 3.8.8 64-bit ('base': conda)"
  },
  "language_info": {
   "name": "python",
   "version": "3.8.8",
   "mimetype": "text/x-python",
   "codemirror_mode": {
    "name": "ipython",
    "version": 3
   },
   "pygments_lexer": "ipython3",
   "nbconvert_exporter": "python",
   "file_extension": ".py"
  },
  "interpreter": {
   "hash": "b3ba2566441a7c06988d0923437866b63cedc61552a5af99d1f4fb67d367b25f"
  }
 },
 "nbformat": 4,
 "nbformat_minor": 2
}